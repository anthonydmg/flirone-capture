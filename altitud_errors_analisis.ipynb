{
 "cells": [
  {
   "cell_type": "code",
   "execution_count": 12,
   "metadata": {},
   "outputs": [
    {
     "data": {
      "text/plain": [
       "(array([ 36., 135., 350., 283.,  99., 141.,  68., 177.,  49.,  15.]),\n",
       " array([169.53208, 169.65107, 169.77006, 169.88905, 170.00804, 170.12703,\n",
       "        170.24602, 170.36501, 170.484  , 170.60299, 170.72198]),\n",
       " <BarContainer object of 10 artists>)"
      ]
     },
     "execution_count": 12,
     "metadata": {},
     "output_type": "execute_result"
    },
    {
     "data": {
      "image/png": "[encoded data removed]",
      "text/plain": [
       "<Figure size 640x480 with 1 Axes>"
      ]
     },
     "metadata": {},
     "output_type": "display_data"
    }
   ],
   "source": [
    "import pandas as pd\n",
    "import matplotlib.pyplot as plt\n",
    "import numpy as np\n",
    "\n",
    "df = pd.read_csv(\"registers/altimeter_0.5fps_2023_07_25_13_57_48_119917.csv\")\n",
    "\n",
    "plt.hist(df.iloc[1:][\"altitud_over_sea_level_lib_adafruit\"], color='#0504aa' , rwidth=0.9)"
   ]
  },
  {
   "cell_type": "code",
   "execution_count": 13,
   "metadata": {},
   "outputs": [
    {
     "data": {
      "text/plain": [
       "170.02850379896526"
      ]
     },
     "execution_count": 13,
     "metadata": {},
     "output_type": "execute_result"
    }
   ],
   "source": [
    "df.iloc[1:][\"altitud_over_sea_level_lib_adafruit\"].mean()"
   ]
  },
  {
   "cell_type": "code",
   "execution_count": 14,
   "metadata": {},
   "outputs": [
    {
     "data": {
      "text/plain": [
       "0.25922811731934103"
      ]
     },
     "execution_count": 14,
     "metadata": {},
     "output_type": "execute_result"
    }
   ],
   "source": [
    "df.iloc[1:][\"altitud_over_sea_level_lib_adafruit\"].std()"
   ]
  },
  {
   "cell_type": "code",
   "execution_count": 15,
   "metadata": {},
   "outputs": [
    {
     "data": {
      "text/html": [
       "<div>\n",
       "<style scoped>\n",
       "    .dataframe tbody tr th:only-of-type {\n",
       "        vertical-align: middle;\n",
       "    }\n",
       "\n",
       "    .dataframe tbody tr th {\n",
       "        vertical-align: top;\n",
       "    }\n",
       "\n",
       "    .dataframe thead th {\n",
       "        text-align: right;\n",
       "    }\n",
       "</style>\n",
       "<table border=\"1\" class=\"dataframe\">\n",
       "  <thead>\n",
       "    <tr style=\"text-align: right;\">\n",
       "      <th></th>\n",
       "      <th>presion</th>\n",
       "      <th>presion_over_floor</th>\n",
       "      <th>temperature</th>\n",
       "      <th>altitude_over_sea_level_lib_bmp280</th>\n",
       "      <th>altitud_over_sea_level_lib_adafruit</th>\n",
       "      <th>altitud_over_sea_level_calculada</th>\n",
       "      <th>calculate_abs_alture</th>\n",
       "      <th>calculate_abs_alture_diff_lib_bmp280</th>\n",
       "      <th>calculate_abs_alture_diff_lib_adafruit</th>\n",
       "      <th>time</th>\n",
       "    </tr>\n",
       "  </thead>\n",
       "  <tbody>\n",
       "    <tr>\n",
       "      <th>0</th>\n",
       "      <td>702.83741</td>\n",
       "      <td>991.25418</td>\n",
       "      <td>25.02068</td>\n",
       "      <td>3305.56552</td>\n",
       "      <td>2980.87330</td>\n",
       "      <td>3092.29025</td>\n",
       "      <td>2906.75521</td>\n",
       "      <td>3109.04819</td>\n",
       "      <td>2796.11217</td>\n",
       "      <td>07/25/2023, 13:57:48</td>\n",
       "    </tr>\n",
       "    <tr>\n",
       "      <th>1</th>\n",
       "      <td>993.00138</td>\n",
       "      <td>991.25418</td>\n",
       "      <td>24.77044</td>\n",
       "      <td>176.33477</td>\n",
       "      <td>169.96424</td>\n",
       "      <td>170.64759</td>\n",
       "      <td>-14.88745</td>\n",
       "      <td>-20.18256</td>\n",
       "      <td>-14.79690</td>\n",
       "      <td>07/25/2023, 13:57:48</td>\n",
       "    </tr>\n",
       "    <tr>\n",
       "      <th>2</th>\n",
       "      <td>993.00423</td>\n",
       "      <td>991.25418</td>\n",
       "      <td>24.77317</td>\n",
       "      <td>176.31125</td>\n",
       "      <td>169.94010</td>\n",
       "      <td>170.62331</td>\n",
       "      <td>-14.91174</td>\n",
       "      <td>-20.20608</td>\n",
       "      <td>-14.82104</td>\n",
       "      <td>07/25/2023, 13:57:49</td>\n",
       "    </tr>\n",
       "    <tr>\n",
       "      <th>3</th>\n",
       "      <td>993.00708</td>\n",
       "      <td>991.25418</td>\n",
       "      <td>24.77590</td>\n",
       "      <td>176.28773</td>\n",
       "      <td>169.91596</td>\n",
       "      <td>170.59902</td>\n",
       "      <td>-14.93602</td>\n",
       "      <td>-20.22960</td>\n",
       "      <td>-14.84517</td>\n",
       "      <td>07/25/2023, 13:57:49</td>\n",
       "    </tr>\n",
       "    <tr>\n",
       "      <th>4</th>\n",
       "      <td>993.00823</td>\n",
       "      <td>991.25418</td>\n",
       "      <td>24.77864</td>\n",
       "      <td>176.27921</td>\n",
       "      <td>169.90623</td>\n",
       "      <td>170.58923</td>\n",
       "      <td>-14.94581</td>\n",
       "      <td>-20.23812</td>\n",
       "      <td>-14.85491</td>\n",
       "      <td>07/25/2023, 13:57:50</td>\n",
       "    </tr>\n",
       "    <tr>\n",
       "      <th>...</th>\n",
       "      <td>...</td>\n",
       "      <td>...</td>\n",
       "      <td>...</td>\n",
       "      <td>...</td>\n",
       "      <td>...</td>\n",
       "      <td>...</td>\n",
       "      <td>...</td>\n",
       "      <td>...</td>\n",
       "      <td>...</td>\n",
       "      <td>...</td>\n",
       "    </tr>\n",
       "    <tr>\n",
       "      <th>1349</th>\n",
       "      <td>992.92366</td>\n",
       "      <td>991.25418</td>\n",
       "      <td>24.77590</td>\n",
       "      <td>177.02299</td>\n",
       "      <td>170.62192</td>\n",
       "      <td>171.30919</td>\n",
       "      <td>-14.22585</td>\n",
       "      <td>-19.49434</td>\n",
       "      <td>-14.13921</td>\n",
       "      <td>07/25/2023, 14:09:11</td>\n",
       "    </tr>\n",
       "    <tr>\n",
       "      <th>1350</th>\n",
       "      <td>992.92587</td>\n",
       "      <td>991.25418</td>\n",
       "      <td>24.77621</td>\n",
       "      <td>177.00371</td>\n",
       "      <td>170.60323</td>\n",
       "      <td>171.29039</td>\n",
       "      <td>-14.24465</td>\n",
       "      <td>-19.51362</td>\n",
       "      <td>-14.15790</td>\n",
       "      <td>07/25/2023, 14:09:12</td>\n",
       "    </tr>\n",
       "    <tr>\n",
       "      <th>1351</th>\n",
       "      <td>992.92247</td>\n",
       "      <td>991.25418</td>\n",
       "      <td>24.77621</td>\n",
       "      <td>177.03372</td>\n",
       "      <td>170.63204</td>\n",
       "      <td>171.31938</td>\n",
       "      <td>-14.21567</td>\n",
       "      <td>-19.48361</td>\n",
       "      <td>-14.12909</td>\n",
       "      <td>07/25/2023, 14:09:12</td>\n",
       "    </tr>\n",
       "    <tr>\n",
       "      <th>1352</th>\n",
       "      <td>992.92587</td>\n",
       "      <td>991.25418</td>\n",
       "      <td>24.77621</td>\n",
       "      <td>177.00371</td>\n",
       "      <td>170.60323</td>\n",
       "      <td>171.29039</td>\n",
       "      <td>-14.24465</td>\n",
       "      <td>-19.51362</td>\n",
       "      <td>-14.15790</td>\n",
       "      <td>07/25/2023, 14:09:13</td>\n",
       "    </tr>\n",
       "    <tr>\n",
       "      <th>1353</th>\n",
       "      <td>992.93029</td>\n",
       "      <td>991.25418</td>\n",
       "      <td>24.77681</td>\n",
       "      <td>176.96513</td>\n",
       "      <td>170.56585</td>\n",
       "      <td>171.25278</td>\n",
       "      <td>-14.28226</td>\n",
       "      <td>-19.55220</td>\n",
       "      <td>-14.19529</td>\n",
       "      <td>07/25/2023, 14:09:13</td>\n",
       "    </tr>\n",
       "  </tbody>\n",
       "</table>\n",
       "<p>1354 rows × 10 columns</p>\n",
       "</div>"
      ],
      "text/plain": [
       "        presion  presion_over_floor  temperature  \\\n",
       "0     702.83741           991.25418     25.02068   \n",
       "1     993.00138           991.25418     24.77044   \n",
       "2     993.00423           991.25418     24.77317   \n",
       "3     993.00708           991.25418     24.77590   \n",
       "4     993.00823           991.25418     24.77864   \n",
       "...         ...                 ...          ...   \n",
       "1349  992.92366           991.25418     24.77590   \n",
       "1350  992.92587           991.25418     24.77621   \n",
       "1351  992.92247           991.25418     24.77621   \n",
       "1352  992.92587           991.25418     24.77621   \n",
       "1353  992.93029           991.25418     24.77681   \n",
       "\n",
       "      altitude_over_sea_level_lib_bmp280  altitud_over_sea_level_lib_adafruit  \\\n",
       "0                             3305.56552                           2980.87330   \n",
       "1                              176.33477                            169.96424   \n",
       "2                              176.31125                            169.94010   \n",
       "3                              176.28773                            169.91596   \n",
       "4                              176.27921                            169.90623   \n",
       "...                                  ...                                  ...   \n",
       "1349                           177.02299                            170.62192   \n",
       "1350                           177.00371                            170.60323   \n",
       "1351                           177.03372                            170.63204   \n",
       "1352                           177.00371                            170.60323   \n",
       "1353                           176.96513                            170.56585   \n",
       "\n",
       "      altitud_over_sea_level_calculada  calculate_abs_alture  \\\n",
       "0                           3092.29025            2906.75521   \n",
       "1                            170.64759             -14.88745   \n",
       "2                            170.62331             -14.91174   \n",
       "3                            170.59902             -14.93602   \n",
       "4                            170.58923             -14.94581   \n",
       "...                                ...                   ...   \n",
       "1349                         171.30919             -14.22585   \n",
       "1350                         171.29039             -14.24465   \n",
       "1351                         171.31938             -14.21567   \n",
       "1352                         171.29039             -14.24465   \n",
       "1353                         171.25278             -14.28226   \n",
       "\n",
       "      calculate_abs_alture_diff_lib_bmp280  \\\n",
       "0                               3109.04819   \n",
       "1                                -20.18256   \n",
       "2                                -20.20608   \n",
       "3                                -20.22960   \n",
       "4                                -20.23812   \n",
       "...                                    ...   \n",
       "1349                             -19.49434   \n",
       "1350                             -19.51362   \n",
       "1351                             -19.48361   \n",
       "1352                             -19.51362   \n",
       "1353                             -19.55220   \n",
       "\n",
       "      calculate_abs_alture_diff_lib_adafruit                  time  \n",
       "0                                 2796.11217  07/25/2023, 13:57:48  \n",
       "1                                  -14.79690  07/25/2023, 13:57:48  \n",
       "2                                  -14.82104  07/25/2023, 13:57:49  \n",
       "3                                  -14.84517  07/25/2023, 13:57:49  \n",
       "4                                  -14.85491  07/25/2023, 13:57:50  \n",
       "...                                      ...                   ...  \n",
       "1349                               -14.13921  07/25/2023, 14:09:11  \n",
       "1350                               -14.15790  07/25/2023, 14:09:12  \n",
       "1351                               -14.12909  07/25/2023, 14:09:12  \n",
       "1352                               -14.15790  07/25/2023, 14:09:13  \n",
       "1353                               -14.19529  07/25/2023, 14:09:13  \n",
       "\n",
       "[1354 rows x 10 columns]"
      ]
     },
     "execution_count": 15,
     "metadata": {},
     "output_type": "execute_result"
    }
   ],
   "source": [
    "df"
   ]
  },
  {
   "cell_type": "code",
   "execution_count": 18,
   "metadata": {},
   "outputs": [
    {
     "data": {
      "text/plain": [
       "(array([ 35., 134., 354., 297., 128., 113., 100., 141.,  37.,  14.]),\n",
       " array([175.91123 , 176.032467, 176.153704, 176.274941, 176.396178,\n",
       "        176.517415, 176.638652, 176.759889, 176.881126, 177.002363,\n",
       "        177.1236  ]),\n",
       " <BarContainer object of 10 artists>)"
      ]
     },
     "execution_count": 18,
     "metadata": {},
     "output_type": "execute_result"
    },
    {
     "data": {
      "image/png": "[encoded data removed]",
      "text/plain": [
       "<Figure size 640x480 with 1 Axes>"
      ]
     },
     "metadata": {},
     "output_type": "display_data"
    }
   ],
   "source": [
    "plt.hist(df.iloc[1:][\"altitude_over_sea_level_lib_bmp280\"], color='#0504aa' , rwidth=0.9)"
   ]
  },
  {
   "cell_type": "code",
   "execution_count": null,
   "metadata": {},
   "outputs": [],
   "source": [
    "df.iloc[1:][\"altitud_over_sea_level_lib_adafruit\"].std()"
   ]
  }
 ],
 "metadata": {
  "kernelspec": {
   "display_name": "Python 3.9.15 ('opencv')",
   "language": "python",
   "name": "python3"
  },
  "language_info": {
   "codemirror_mode": {
    "name": "ipython",
    "version": 3
   },
   "file_extension": ".py",
   "mimetype": "text/x-python",
   "name": "python",
   "nbconvert_exporter": "python",
   "pygments_lexer": "ipython3",
   "version": "3.9.15"
  },
  "orig_nbformat": 4,
  "vscode": {
   "interpreter": {
    "hash": "d09e468475af27f3b3fee06a9f43fdf9794a105eca294350e276199350d4071b"
   }
  }
 },
 "nbformat": 4,
 "nbformat_minor": 2
}
