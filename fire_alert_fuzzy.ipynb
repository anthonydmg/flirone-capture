{
 "cells": [
  {
   "cell_type": "code",
   "execution_count": null,
   "metadata": {},
   "outputs": [
    {
     "ename": "",
     "evalue": "",
     "output_type": "error",
     "traceback": [
      "\u001b[1;31mLa ejecución de celdas con 'Python 3.9.15 ('opencv')' requieren el paquete ipykernel.\n",
      "\u001b[1;31mEjecute el siguiente comando para instalar 'ipykernel' en el entorno de Python. comando \n",
      "\u001b[1;31m: 'conda install -n opencv ipykernel --update-deps --force-reinstall'"
     ]
    }
   ],
   "source": [
    "import numpy as np\n",
    "import skfuzzy as fuzz\n",
    "from skfuzzy import control as ctrl\n",
    "import matplotlib.pyplot as plt\n",
    "\n",
    "## Generando las variables\n",
    "x_temperature = np.arange(0,200,1)\n",
    "x_areaFire = np.arange(0,20,0.5)\n",
    "x_alert = np.arange(0,1,0.1)\n",
    "\n",
    "## Fuzzy member ship\n",
    "temp_low = fuzz.trapmf(x_temperature, [0, 0,40, 80])\n",
    "temp_medium = fuzz.trimf(x_temperature, [40, 80, 120])\n",
    "temp_high = fuzz.trapmf(x_temperature,[80,120,200,200])\n",
    "\n",
    "areaF_low = fuzz.trapmf(x_areaFire, [0, 0, 0.5, 1])\n",
    "areaF_medium = fuzz.trimf(x_areaFire, [0.5, 1, 2])\n",
    "areaF_high = fuzz.trapmf(x_areaFire, [1, 2, 20,20])\n",
    "\n",
    "alert_low = fuzz.trapmf(x_alert, [0,0, 0.3 ,0.5])\n",
    "alert_medium = fuzz.trimf(x_alert, [0.3, 0.5 , 0.7])\n",
    "alert_high = fuzz.trapmf(x_alert, [0.5,0.7, 1.0,1.0])\n",
    "\n",
    "\n",
    "## Visualize memberships\n",
    "\n",
    "fig, (ax0, ax1, ax2) = plt.subplots(nrows= 3, figsize = (8,9))\n",
    "\n",
    "ax0.plot(x_temperature, temp_low, 'b', linewidth = 1.5, label = 'Baja')\n",
    "ax0.plot(x_temperature, temp_medium, 'g', linewidth = 1.5, label = 'Media')\n",
    "ax0.plot(x_temperature, temp_high, 'r', linewidth = 1.5, label = 'Alta')\n",
    "ax0.set_title('Temperatura')\n",
    "ax0.legend()\n",
    "\n",
    "ax1.plot(x_areaFire, areaF_low, 'b', linewidth = 1.5, label = 'Pequena')\n",
    "ax1.plot(x_areaFire, areaF_medium, 'g', linewidth = 1.5, label = 'Mediana')\n",
    "ax1.plot(x_areaFire, areaF_high, 'r', linewidth = 1.5, label = 'Grande')\n",
    "ax1.set_title('Area Fuego')\n",
    "ax1.legend()\n",
    "\n",
    "ax2.plot(x_alert, alert_low, 'b', linewidth = 1.5, label = 'Verde')\n",
    "ax2.plot(x_alert, alert_medium, 'g', linewidth = 1.5, label = 'Amarillo')\n",
    "ax2.plot(x_alert, alert_high, 'r', linewidth = 1.5, label = 'Rojo')\n",
    "ax2.set_title('Alerta')\n",
    "ax2.legend()\n",
    "\n",
    "# Turn off top/right axes\n",
    "for ax in (ax0, ax1, ax2):\n",
    "    ax.spines['top'].set_visible(False)\n",
    "    ax.spines['right'].set_visible(False)\n",
    "    ax.get_xaxis().tick_bottom()\n",
    "    ax.get_yaxis().tick_left()\n",
    "\n",
    "plt.tight_layout()\n",
    "\n",
    "plt.savefig(\"memberships.png\")\n",
    "## Fuzzy Rules\n",
    "## 1. Si la temperatura es baja or el area es baja, entonces la alerta es baja\n",
    "\n",
    "\n"
   ]
  },
  {
   "cell_type": "code",
   "execution_count": 32,
   "metadata": {},
   "outputs": [
    {
     "data": {
      "image/png": "[encoded data removed]",
      "text/plain": [
       "<Figure size 576x216 with 1 Axes>"
      ]
     },
     "metadata": {
      "needs_background": "light"
     },
     "output_type": "display_data"
    }
   ],
   "source": [
    "## Define Rules\n",
    "## 1. Si Temperatura es baja es verde\n",
    "## 2. Si Tmperatura es media y area es baja entonces es verde\n",
    "## 3. Si temperatura es media y area es media estonces es naranaja\n",
    "## 4. Si tempertatua es madia y area es grande naranja\n",
    "## 5. Si temperatura es alta y area es pequena entonces es naranja\n",
    "## 6. Si temperatura es alta y area es media entonces en rojo\n",
    "## 7. Si tempertatua es alta y area es alta entonces es rojo\n",
    "\n",
    "\n",
    "temperature = 110\n",
    "areaFile = 2\n",
    "\n",
    "temp_level_low = fuzz.interp_membership(x_temperature, temp_low, temperature) \n",
    "temp_level_medium = fuzz.interp_membership(x_temperature, temp_medium, temperature) \n",
    "temp_level_high = fuzz.interp_membership(x_temperature, temp_high, temperature) \n",
    "\n",
    "areaF_level_low = fuzz.interp_membership(x_areaFire, areaF_low, areaFile) \n",
    "areaF_level_medium = fuzz.interp_membership(x_areaFire, areaF_medium, areaFile) \n",
    "areaF_level_high = fuzz.interp_membership(x_areaFire, areaF_high, areaFile) \n",
    "\n",
    "## Primera regla\n",
    "## Verde\n",
    "\n",
    "rule1_1 = np.fmin(temp_level_low, areaF_level_low)\n",
    "rule1_2 = np.fmin(temp_level_low, areaF_level_medium)\n",
    "rule1_3 = np.fmin(temp_level_low, areaF_level_high)\n",
    "rule1_4 = np.fmin(temp_level_medium, areaF_level_low)\n",
    "rule1_5 = np.fmax(rule1_1, rule1_2)\n",
    "rule1_6 = np.fmax(rule1_1, rule1_2)\n",
    "\n",
    "rule_verde = np.fmax(rule1_5, rule1_6)\n",
    "\n",
    "## naranja\n",
    "\n",
    "rule2_1 = np.fmin(temp_level_medium, areaF_level_medium)\n",
    "rule2_2 = np.fmin(temp_level_medium, areaF_level_high)\n",
    "rule2_3 = np.fmin(temp_level_high, areaF_level_low)\n",
    "rule2_4 =  np.fmax(rule2_1, rule2_2)\n",
    "rule_naranja =  np.fmax(rule2_4, rule2_3)\n",
    "\n",
    "## naranja\n",
    "rule3_1 = np.fmin(temp_level_high, areaF_level_medium)\n",
    "rule3_2 = np.fmin(temp_level_high, areaF_level_high)\n",
    "rule_rojo = np.fmax(rule3_1,rule3_2)\n",
    "\n",
    "verde = np.fmin(rule_verde, alert_low)\n",
    "\n",
    "naranja = np.fmin(rule_naranja, alert_medium)\n",
    "rojo = np.fmin(rule_rojo, alert_high)\n",
    "\n",
    "\n",
    "alert0 = np.zeros_like(x_alert)\n",
    "\n",
    "## Visualize \n",
    "\n",
    "fig, ax0 = plt.subplots(figsize = (8,3))\n",
    "\n",
    "ax0.fill_between(x_alert, alert0, verde, facecolor = 'g', alpha = 0.7)\n",
    "ax0.plot(x_alert, alert_low, 'g', linewidth = 0.5, linestyle = '--')\n",
    "\n",
    "ax0.fill_between(x_alert, alert0, naranja, facecolor = 'orange', alpha = 0.7)\n",
    "ax0.plot(x_alert, alert_medium, 'orange', linewidth = 0.5, linestyle = '--')\n",
    "\n",
    "ax0.fill_between(x_alert, alert0, rojo, facecolor = 'r', alpha = 0.7)\n",
    "ax0.plot(x_alert, alert_high, 'r', linewidth = 0.5, linestyle = '--')\n",
    "\n",
    "# Turn off top/right axes\n",
    "for ax in (ax0,):\n",
    "    ax.spines['top'].set_visible(False)\n",
    "    ax.spines['right'].set_visible(False)\n",
    "    ax.get_xaxis().tick_bottom()\n",
    "    ax.get_yaxis().tick_left()\n",
    "\n",
    "plt.tight_layout()"
   ]
  },
  {
   "cell_type": "code",
   "execution_count": 33,
   "metadata": {},
   "outputs": [
    {
     "data": {
      "text/plain": [
       "(0.0, 0.25, 0.75)"
      ]
     },
     "execution_count": 33,
     "metadata": {},
     "output_type": "execute_result"
    }
   ],
   "source": [
    "rule_verde, rule_naranja, rule_rojo"
   ]
  },
  {
   "cell_type": "code",
   "execution_count": null,
   "metadata": {},
   "outputs": [],
   "source": []
  },
  {
   "cell_type": "code",
   "execution_count": 13,
   "metadata": {},
   "outputs": [
    {
     "data": {
      "text/plain": [
       "(array([0.2, 0.2, 0.2, 0.2, 0.2, 0. , 0. , 0. , 0. , 0. ]),\n",
       " array([0.00000000e+00, 0.00000000e+00, 0.00000000e+00, 2.77555756e-16,\n",
       "        5.00000000e-01, 5.00000000e-01, 5.00000000e-01, 0.00000000e+00,\n",
       "        0.00000000e+00, 0.00000000e+00]),\n",
       " array([0. , 0. , 0. , 0. , 0. , 0. , 0.5, 0.5, 0.5, 0.5]))"
      ]
     },
     "execution_count": 13,
     "metadata": {},
     "output_type": "execute_result"
    }
   ],
   "source": []
  },
  {
   "cell_type": "code",
   "execution_count": 11,
   "metadata": {},
   "outputs": [
    {
     "name": "stdout",
     "output_type": "stream",
     "text": [
      "Alerta:  0.5333333333333333\n"
     ]
    },
    {
     "data": {
      "image/png": "[encoded data removed]",
      "text/plain": [
       "<Figure size 576x216 with 1 Axes>"
      ]
     },
     "metadata": {
      "needs_background": "light"
     },
     "output_type": "display_data"
    }
   ],
   "source": [
    "## Desfuzificacion\n",
    "aggregated = np.fmax(verde, np.fmax(naranja, rojo))\n",
    "\n",
    "# Calculate defuzzified result\n",
    "alert = fuzz.defuzz(x_alert, aggregated, 'centroid')\n",
    "print(\"Alerta: \", alert)\n",
    "alert_activation = fuzz.interp_membership(x_alert, aggregated, alert)  # for plot\n",
    "# Visualize this\n",
    "fig, ax0 = plt.subplots(figsize=(8, 3))\n",
    "\n",
    "ax0.plot(x_alert, alert_low, 'b', linewidth=0.5, linestyle='--', )\n",
    "ax0.plot(x_alert, alert_medium, 'g', linewidth=0.5, linestyle='--')\n",
    "ax0.plot(x_alert, alert_high, 'r', linewidth=0.5, linestyle='--')\n",
    "ax0.fill_between(x_alert, alert0, aggregated, facecolor='Orange', alpha=0.7)\n",
    "ax0.plot([alert, alert], [0, alert_activation], 'k', linewidth=1.5, alpha=0.9)\n",
    "ax0.set_title('Aggregated membership and result (line)')\n",
    "\n",
    "# Turn off top/right axes\n",
    "for ax in (ax0,):\n",
    "    ax.spines['top'].set_visible(False)\n",
    "    ax.spines['right'].set_visible(False)\n",
    "    ax.get_xaxis().tick_bottom()\n",
    "    ax.get_yaxis().tick_left()\n",
    "\n",
    "plt.tight_layout()\n",
    "                     "
   ]
  }
 ],
 "metadata": {
  "kernelspec": {
   "display_name": "Python 3.8.10 64-bit",
   "language": "python",
   "name": "python3"
  },
  "language_info": {
   "codemirror_mode": {
    "name": "ipython",
    "version": 3
   },
   "file_extension": ".py",
   "mimetype": "text/x-python",
   "name": "python",
   "nbconvert_exporter": "python",
   "pygments_lexer": "ipython3",
   "version": "3.8.10"
  },
  "orig_nbformat": 4,
  "vscode": {
   "interpreter": {
    "hash": "31f2aee4e71d21fbe5cf8b01ff0e069b9275f58929596ceb00d14d90e3e16cd6"
   }
  }
 },
 "nbformat": 4,
 "nbformat_minor": 2
}
